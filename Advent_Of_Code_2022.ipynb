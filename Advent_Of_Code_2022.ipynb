{
 "cells": [
  {
   "cell_type": "markdown",
   "id": "bca4818c",
   "metadata": {},
   "source": [
    "# Day 1"
   ]
  },
  {
   "cell_type": "markdown",
   "id": "cdc7182f",
   "metadata": {},
   "source": [
    "## Part 1"
   ]
  },
  {
   "cell_type": "code",
   "execution_count": 5,
   "id": "1af3b216",
   "metadata": {},
   "outputs": [
    {
     "ename": "FileNotFoundError",
     "evalue": "[Errno 2] No such file or directory: 'Input#1'",
     "output_type": "error",
     "traceback": [
      "\u001b[1;31m---------------------------------------------------------------------------\u001b[0m",
      "\u001b[1;31mFileNotFoundError\u001b[0m                         Traceback (most recent call last)",
      "\u001b[1;32m~\\AppData\\Local\\Temp\\ipykernel_11288\\2323871117.py\u001b[0m in \u001b[0;36m<module>\u001b[1;34m\u001b[0m\n\u001b[0;32m      1\u001b[0m \u001b[1;31m#Ouvrir et lire le fichier d'inputs\u001b[0m\u001b[1;33m\u001b[0m\u001b[1;33m\u001b[0m\u001b[0m\n\u001b[1;32m----> 2\u001b[1;33m \u001b[0mfichier\u001b[0m\u001b[1;33m=\u001b[0m\u001b[0mopen\u001b[0m\u001b[1;33m(\u001b[0m\u001b[1;34m\"Input#1\"\u001b[0m\u001b[1;33m,\u001b[0m \u001b[1;34m\"r\"\u001b[0m\u001b[1;33m)\u001b[0m\u001b[1;33m\u001b[0m\u001b[1;33m\u001b[0m\u001b[0m\n\u001b[0m\u001b[0;32m      3\u001b[0m \u001b[0mlignes\u001b[0m\u001b[1;33m=\u001b[0m\u001b[0mfichier\u001b[0m\u001b[1;33m.\u001b[0m\u001b[0mreadlines\u001b[0m\u001b[1;33m(\u001b[0m\u001b[1;33m)\u001b[0m\u001b[1;33m\u001b[0m\u001b[1;33m\u001b[0m\u001b[0m\n\u001b[0;32m      4\u001b[0m \u001b[1;33m\u001b[0m\u001b[0m\n\u001b[0;32m      5\u001b[0m \u001b[1;31m#Lister chaque ligne du fichier\u001b[0m\u001b[1;33m\u001b[0m\u001b[1;33m\u001b[0m\u001b[0m\n",
      "\u001b[1;31mFileNotFoundError\u001b[0m: [Errno 2] No such file or directory: 'Input#1'"
     ]
    }
   ],
   "source": [
    "#Ouvrir et lire le fichier d'inputs\n",
    "fichier=open(\"Input#1\", \"r\")\n",
    "lignes=fichier.readlines()\n",
    "\n",
    "#Lister chaque ligne du fichier\n",
    "lignes_fichier=[]\n",
    "for ligne in lignes :\n",
    "    lignes_fichier.append(ligne[:len(ligne)-1])\n",
    "\n",
    "#Créer une liste pour chaque elf indiquant leur numéro et le nombre de calories qu'ils transportent\n",
    "nb_calories = 0\n",
    "nb_elf = 1\n",
    "list=[]\n",
    "for i in lignes_fichier :\n",
    "    if i != '' :\n",
    "        nb_calories+=int(i)\n",
    "    else :\n",
    "        list.append((nb_elf,nb_calories))\n",
    "        nb_calories=0\n",
    "        nb_elf += 1      \n",
    "print(list)\n",
    "\n",
    "#Créer la liste des calories transportées et trouver le maximum\n",
    "list_calories=[]\n",
    "for i in range(0,len(list)) :\n",
    "    list_calories.append(list[i][1])\n",
    "\n",
    "print(max(list_calories))\n",
    "\n",
    "for i in range(0,len(list)) :\n",
    "    if list[i][1] == max(list_calories) :\n",
    "        print(list[i][0])"
   ]
  },
  {
   "cell_type": "code",
   "execution_count": null,
   "id": "1d88d7a8",
   "metadata": {},
   "outputs": [],
   "source": []
  }
 ],
 "metadata": {
  "kernelspec": {
   "display_name": "Python 3 (ipykernel)",
   "language": "python",
   "name": "python3"
  },
  "language_info": {
   "codemirror_mode": {
    "name": "ipython",
    "version": 3
   },
   "file_extension": ".py",
   "mimetype": "text/x-python",
   "name": "python",
   "nbconvert_exporter": "python",
   "pygments_lexer": "ipython3",
   "version": "3.9.13"
  }
 },
 "nbformat": 4,
 "nbformat_minor": 5
}
